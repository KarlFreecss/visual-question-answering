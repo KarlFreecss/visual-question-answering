{
 "cells": [
  {
   "cell_type": "code",
   "execution_count": 3,
   "metadata": {},
   "outputs": [],
   "source": [
    "import torch.nn as nn\n",
    "import torch.nn.functional as F\n",
    "from torch.autograd import variable\n",
    "import nntools as nt"
   ]
  },
  {
   "cell_type": "code",
   "execution_count": 4,
   "metadata": {},
   "outputs": [],
   "source": [
    "class NNClassifier(nt.NeuralNetwork):\n",
    "    def __init__(self):\n",
    "        super(NNClassifier, self).__init__()\n",
    "        self.cross_entropy = nn.CrossEntropyLoss()\n",
    "    \n",
    "    def criterion(self, y, d):\n",
    "        return self.cross_entropy(y, d)"
   ]
  },
  {
   "cell_type": "code",
   "execution_count": null,
   "metadata": {},
   "outputs": [],
   "source": [
    "class SAN(NNClassifier):\n",
    "    def __init__(self, num_classes, fine_tuning=False):\n",
    "        super(SAN, self).__init__()\n",
    "        "
   ]
  },
  {
   "cell_type": "code",
   "execution_count": 5,
   "metadata": {},
   "outputs": [
    {
     "ename": "SyntaxError",
     "evalue": "unexpected EOF while parsing (<ipython-input-5-1423d51c1826>, line 16)",
     "output_type": "error",
     "traceback": [
      "\u001b[0;36m  File \u001b[0;32m\"<ipython-input-5-1423d51c1826>\"\u001b[0;36m, line \u001b[0;32m16\u001b[0m\n\u001b[0;31m    #take last hidden layer and return as output\u001b[0m\n\u001b[0m                                                 ^\u001b[0m\n\u001b[0;31mSyntaxError\u001b[0m\u001b[0;31m:\u001b[0m unexpected EOF while parsing\n"
     ]
    }
   ],
   "source": [
    "class LSTM(NNClassifier): \n",
    "    def __init__(self, vocab, embedding_dim, hidden_dim, num_layers=1, dropout_ratio):\n",
    "        super(questionModel,self).__init__()\n",
    "        self.vocab = vocab\n",
    "        self.vocab_size = len(vocab)\n",
    "        \n",
    "        self.embed = nn.Embedding(self.vocab_size, out_features = embedded_dim)\n",
    "        \n",
    "        self.lstm = nn.LSTM(input_size=embedded_dim, hidden_size=hidden_dim, \n",
    "                            num_layers=num_layers, dropout=dropout_ratio)\n",
    "        \n",
    "        \n",
    "        \n",
    "        \n",
    "    def forward(question_vec):\n",
    "        #take in question_vec\n",
    "        \n",
    "        #create tensor size of vocab list \n",
    "        #pass it to embedding matrix to create embedded word vec\n",
    "        #passed embedded word vec to lstm \n",
    "        #take last hidden layer and return as output "
   ]
  },
  {
   "cell_type": "code",
   "execution_count": null,
   "metadata": {},
   "outputs": [],
   "source": [
    "class VGG16Transfer(NNClassifier):\n",
    "    def __init__(self, num_classes, fine_tuning=False):\n",
    "        super(VGG16Transfer, self).__init__()\n",
    "        vgg = tv.models.vgg16_bn(pretrained=True) \n",
    "        for param in vgg.parameters():\n",
    "            param.requires_grad = fine_tuning \n",
    "        \n",
    "        self.features = vgg.features\n",
    "        self.classifier = vgg.classifier\n",
    "        \n",
    "        num_ftrs = vgg.classifier[6].in_features\n",
    "        self.classifier[6] = nn.Linear(num_ftrs, num_classes)\n",
    "\n",
    "    def forward(self, x): \n",
    "        f = self.features(x)\n",
    "        f = f.view(f.size(0), -1)\n",
    "        \n",
    "        y = self.classifier(f) \n",
    "        return y"
   ]
  }
 ],
 "metadata": {
  "kernelspec": {
   "display_name": "Python 3",
   "language": "python",
   "name": "python3"
  },
  "language_info": {
   "codemirror_mode": {
    "name": "ipython",
    "version": 3
   },
   "file_extension": ".py",
   "mimetype": "text/x-python",
   "name": "python",
   "nbconvert_exporter": "python",
   "pygments_lexer": "ipython3",
   "version": "3.6.8"
  }
 },
 "nbformat": 4,
 "nbformat_minor": 2
}
