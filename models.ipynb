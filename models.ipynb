{
 "cells": [
  {
   "cell_type": "code",
   "execution_count": 2,
   "metadata": {},
   "outputs": [],
   "source": [
    "import torch.nn as nn\n",
    "import torch.nn.functional as F\n",
    "from torch.autograd import variable\n",
    "import torchvision as tv\n",
    "import nntools as nt\n",
    "import nntools as mnt\n",
    "import torch"
   ]
  },
  {
   "cell_type": "code",
   "execution_count": 21,
   "metadata": {},
   "outputs": [],
   "source": [
    "class NNClassifier(mnt.NeuralNetwork):\n",
    "    def __init__(self):\n",
    "        super(NNClassifier, self).__init__()\n",
    "        self.cross_entropy = nn.CrossEntropyLoss()\n",
    "    \n",
    "    def criterion(self, y, d):\n",
    "        print(y.shape)\n",
    "        print(d.shape)\n",
    "        return self.cross_entropy(y, d)"
   ]
  },
  {
   "cell_type": "code",
   "execution_count": 22,
   "metadata": {},
   "outputs": [],
   "source": [
    "class VGGNet(nn.Module):\n",
    "    def __init__(self, output_features, fine_tuning=False):\n",
    "        super(VGGNet, self).__init__()\n",
    "        vgg = tv.models.vgg16_bn(pretrained=True)\n",
    "        \n",
    "        #freezing the feature extraction layers\n",
    "        for param in vgg.parameters():\n",
    "            param.requires_grad = fine_tuning\n",
    "            \n",
    "        self.features = vgg.features\n",
    "        \n",
    "        self.num_fts = 512\n",
    "        self.output_features = output_features\n",
    "        \n",
    "        # Linear layer goes from 512 to 1024\n",
    "        self.classifier = nn.Linear(self.num_fts, self.output_features)\n",
    "        self.tanh = nn.Tanh()\n",
    "        \n",
    "    def forward(self, x):         \n",
    "        h = self.features(x)\n",
    "        \n",
    "        h = h.view(-1, 196, self.num_fts)\n",
    "        \n",
    "        h = self.classifier(h)\n",
    "        \n",
    "        y = self.tanh(h)\n",
    "        \n",
    "        return y"
   ]
  },
  {
   "cell_type": "code",
   "execution_count": 23,
   "metadata": {},
   "outputs": [],
   "source": [
    "class LSTM(nn.Module): \n",
    "    def __init__(self, vocab_size, embedding_dim, num_layers=1, batch_size=100, hidden_dim=1024):\n",
    "        super(LSTM,self).__init__()\n",
    "        self.vocab_size = vocab_size\n",
    "        self.batch_size = batch_size\n",
    "        self.hidden_dim = hidden_dim\n",
    "        self.embedding_dim = embedding_dim\n",
    "        \n",
    "        self.linear = nn.Linear(vocab_size, embedding_dim, bias=False)\n",
    "                \n",
    "        self.lstm = nn.LSTM(input_size=embedding_dim, hidden_size=hidden_dim, \n",
    "                            num_layers=num_layers)\n",
    "    \n",
    "    def forward(self, question_vec):       \n",
    "        q = question_vec.transpose(1, 2)\n",
    "                \n",
    "        embedding = self.linear(q).transpose(0, 1)\n",
    "        \n",
    "        _, h = self.lstm(embedding)\n",
    "        \n",
    "        return h[0][0]"
   ]
  },
  {
   "cell_type": "code",
   "execution_count": 24,
   "metadata": {},
   "outputs": [],
   "source": [
    "class AttentionNet(nn.Module):\n",
    "    def __init__(self, num_classes, batch_size, input_features=1024, output_features=512):\n",
    "        #v_i in dxm => 1024x196 vec\n",
    "        #v_q in d => 1024x1 vec\n",
    "        #Wia v_i in kxm => kx196\n",
    "        #will choose k => 512\n",
    "        \n",
    "        super(AttentionNet,self).__init__()\n",
    "        self.input_features = input_features\n",
    "        self.output_features = output_features #k \n",
    "        self.num_classes = num_classes\n",
    "        self.batch_size = batch_size\n",
    "        \n",
    "        self.image1 = nn.Linear(input_features, output_features, bias=False)\n",
    "        self.question1 = nn.Linear(input_features, output_features)\n",
    "        self.attention1 = nn.Linear(output_features, 1)\n",
    "        \n",
    "        self.image2 = nn.Linear(input_features, output_features, bias=False)\n",
    "        self.question2 = nn.Linear(input_features, output_features)\n",
    "        self.attention2 = nn.Linear(output_features, 1)\n",
    "        \n",
    "        self.answer_dist = nn.Linear(input_features, self.num_classes)\n",
    "                \n",
    "        self.tanh = nn.Tanh()\n",
    "        self.softmax = nn.Softmax(dim=1)\n",
    "        self.dropout = nn.Dropout(0.5)\n",
    "        \n",
    "    def forward(self, image, question):\n",
    "        # image_vec = 10x196x1024\n",
    "        # question_vec = 10x1024\n",
    "        \n",
    "        irep_1 = self.image1(image)\n",
    "        qrep_1 = self.question1(question).unsqueeze(dim=1) \n",
    "        ha_1 = self.tanh(irep_1 + qrep_1)\n",
    "        pi_1 = self.softmax(self.attention1(ha_1))\n",
    "        u_1 = (pi_1 * image).sum(dim=1) + question\n",
    "        \n",
    "        irep_2 = self.image2(image)\n",
    "        qrep_2 = self.question2(u_1).unsqueeze(dim=1)\n",
    "        ha_2 = self.tanh(irep_2 + qrep_2)\n",
    "        pi_2 = self.softmax(self.attention2(ha_2))\n",
    "        u_2 = (pi_2 * image).sum(dim=1) + u_1\n",
    "        \n",
    "        w_u = self.answer_dist(u_2)\n",
    "        m = w_u.max()\n",
    "        \n",
    "        p_ans = self.softmax(w_u - m)\n",
    "        \n",
    "        return p_ans"
   ]
  },
  {
   "cell_type": "code",
   "execution_count": 25,
   "metadata": {},
   "outputs": [],
   "source": [
    "class SAN(NNClassifier):\n",
    "    def __init__(self, output_vgg, vocab_size, batch_size, embedding_dim, num_classes, \n",
    "                 input_attention, output_attention, fine_tuning=False):\n",
    "        super(SAN, self).__init__()\n",
    "        #output_featured -> 1024\n",
    "        self.vgg = VGGNet(output_vgg)\n",
    "        \n",
    "        #vocab_size,embedding_dim =1000\n",
    "        self.lstm = LSTM(vocab_size=vocab_size, embedding_dim=embedding_dim, \n",
    "                         batch_size=batch_size)\n",
    "        \n",
    "        #num_classes = 10000\n",
    "        self.attention = AttentionNet(num_classes=num_classes, batch_size=batch_size, \n",
    "                                      input_features=input_attention, output_features=output_attention)\n",
    "        \n",
    "    def forward(self, image, question):\n",
    "        #image_embedding -> 1024x196\n",
    "        image_embedding = self.vgg(image)\n",
    "        \n",
    "        #question_embedding -> 1024x1 \n",
    "        question_embedding = self.lstm(question)\n",
    "        \n",
    "        #should return answer distribution 1000x1 \n",
    "        return self.attention(image_embedding, question_embedding)"
   ]
  },
  {
   "cell_type": "code",
   "execution_count": 1,
   "metadata": {},
   "outputs": [
    {
     "ename": "NameError",
     "evalue": "name 'train' is not defined",
     "output_type": "error",
     "traceback": [
      "\u001b[0;31m\u001b[0m",
      "\u001b[0;31mNameError\u001b[0mTraceback (most recent call last)",
      "\u001b[0;32m<ipython-input-1-9b7c4a596534>\u001b[0m in \u001b[0;36m<module>\u001b[0;34m()\u001b[0m\n\u001b[0;32m----> 1\u001b[0;31m \u001b[0mtrain\u001b[0m\u001b[0;34m[\u001b[0m\u001b[0;36m0\u001b[0m\u001b[0;34m]\u001b[0m\u001b[0;34m\u001b[0m\u001b[0;34m\u001b[0m\u001b[0m\n\u001b[0m",
      "\u001b[0;31mNameError\u001b[0m: name 'train' is not defined"
     ]
    }
   ],
   "source": []
  },
  {
   "cell_type": "code",
   "execution_count": null,
   "metadata": {},
   "outputs": [],
   "source": []
  },
  {
   "cell_type": "code",
   "execution_count": null,
   "metadata": {},
   "outputs": [],
   "source": []
  },
  {
   "cell_type": "code",
   "execution_count": null,
   "metadata": {},
   "outputs": [],
   "source": []
  }
 ],
 "metadata": {
  "kernelspec": {
   "display_name": "Python 3",
   "language": "python",
   "name": "python3"
  },
  "language_info": {
   "codemirror_mode": {
    "name": "ipython",
    "version": 3
   },
   "file_extension": ".py",
   "mimetype": "text/x-python",
   "name": "python",
   "nbconvert_exporter": "python",
   "pygments_lexer": "ipython3",
   "version": "3.6.8"
  }
 },
 "nbformat": 4,
 "nbformat_minor": 2
}
