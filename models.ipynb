{
 "cells": [
  {
   "cell_type": "code",
   "execution_count": 58,
   "metadata": {},
   "outputs": [],
   "source": [
    "import torch.nn as nn\n",
    "import torch.nn.functional as F\n",
    "from torch.autograd import variable\n",
    "import torchvision as tv\n",
    "import nntools as nt\n",
    "import torch"
   ]
  },
  {
   "cell_type": "code",
   "execution_count": 52,
   "metadata": {},
   "outputs": [],
   "source": [
    "class NNClassifier(nt.NeuralNetwork):\n",
    "    def __init__(self):\n",
    "        super(NNClassifier, self).__init__()\n",
    "        self.cross_entropy = nn.CrossEntropyLoss()\n",
    "    \n",
    "    def criterion(self, y, d):\n",
    "        return self.cross_entropy(y, d)"
   ]
  },
  {
   "cell_type": "code",
   "execution_count": 72,
   "metadata": {},
   "outputs": [],
   "source": [
    "class VGGNet(NNClassifier):\n",
    "    def __init__(self, num_classes, fine_tuning=False):\n",
    "        super(VGGNet, self).__init__()\n",
    "        vgg = tv.models.vgg16_bn(pretrained=True)\n",
    "        \n",
    "        for param in vgg.parameters():\n",
    "            param.requires_grad = fine_tuning \n",
    "            \n",
    "        self.features = vgg.features\n",
    "        \n",
    "        self.num_fts = 512\n",
    "        self.num_classes = num_classes\n",
    "        \n",
    "        # Linear layer goes from 512 to 1024\n",
    "        self.classifier = nn.Linear(self.num_fts, self.num_classes)\n",
    "        self.tanh = nn.Tanh()\n",
    "        self.dropout = nn.Dropout(0.5)\n",
    "        \n",
    "    def forward(self, x):\n",
    "        h = self.features(x)\n",
    "        h = self.classifier(h.view(-1, self.num_fts)).view(-1, 196, self.num_classes)\n",
    "        y = self.dropout(self.tanh(h))\n",
    "        \n",
    "        return y"
   ]
  },
  {
   "cell_type": "code",
   "execution_count": 3,
   "metadata": {},
   "outputs": [
    {
     "ename": "NameError",
     "evalue": "name 'NNClassifier' is not defined",
     "output_type": "error",
     "traceback": [
      "\u001b[0;31m---------------------------------------------------------------------------\u001b[0m",
      "\u001b[0;31mNameError\u001b[0m                                 Traceback (most recent call last)",
      "\u001b[0;32m<ipython-input-3-b4b5eaf52cf5>\u001b[0m in \u001b[0;36m<module>\u001b[0;34m()\u001b[0m\n\u001b[0;32m----> 1\u001b[0;31m \u001b[0;32mclass\u001b[0m \u001b[0mLSTM\u001b[0m\u001b[0;34m(\u001b[0m\u001b[0mNNClassifier\u001b[0m\u001b[0;34m)\u001b[0m\u001b[0;34m:\u001b[0m\u001b[0;34m\u001b[0m\u001b[0;34m\u001b[0m\u001b[0m\n\u001b[0m\u001b[1;32m      2\u001b[0m     \u001b[0;32mdef\u001b[0m \u001b[0m__init__\u001b[0m\u001b[0;34m(\u001b[0m\u001b[0mself\u001b[0m\u001b[0;34m,\u001b[0m \u001b[0mvocab_size\u001b[0m\u001b[0;34m,\u001b[0m \u001b[0membedding_dim\u001b[0m\u001b[0;34m,\u001b[0m \u001b[0mnum_layers\u001b[0m\u001b[0;34m=\u001b[0m\u001b[0;36m1\u001b[0m\u001b[0;34m,\u001b[0m\u001b[0mhidden_dim\u001b[0m\u001b[0;34m=\u001b[0m\u001b[0;36m1024\u001b[0m\u001b[0;34m)\u001b[0m\u001b[0;34m:\u001b[0m\u001b[0;34m\u001b[0m\u001b[0;34m\u001b[0m\u001b[0m\n\u001b[1;32m      3\u001b[0m         \u001b[0msuper\u001b[0m\u001b[0;34m(\u001b[0m\u001b[0mLSTM\u001b[0m\u001b[0;34m,\u001b[0m\u001b[0mself\u001b[0m\u001b[0;34m)\u001b[0m\u001b[0;34m.\u001b[0m\u001b[0m__init__\u001b[0m\u001b[0;34m(\u001b[0m\u001b[0;34m)\u001b[0m\u001b[0;34m\u001b[0m\u001b[0;34m\u001b[0m\u001b[0m\n\u001b[1;32m      4\u001b[0m         \u001b[0mself\u001b[0m\u001b[0;34m.\u001b[0m\u001b[0mvocab_size\u001b[0m \u001b[0;34m=\u001b[0m \u001b[0mvocab_size\u001b[0m\u001b[0;34m\u001b[0m\u001b[0;34m\u001b[0m\u001b[0m\n\u001b[1;32m      5\u001b[0m \u001b[0;34m\u001b[0m\u001b[0m\n",
      "\u001b[0;31mNameError\u001b[0m: name 'NNClassifier' is not defined"
     ]
    }
   ],
   "source": [
    "class LSTM(NNClassifier): \n",
    "    def __init__(self, vocab_size, embedding_dim, num_layers=1, batch_size=100, hidden_dim=1024):\n",
    "        super(LSTM,self).__init__()\n",
    "        self.vocab_size = vocab_size\n",
    "        self.batch_size = batch_size\n",
    "        \n",
    "        self.embed = nn.Linear(self.vocab_size, embedding_dim, bias=False)\n",
    "        \n",
    "        self.lstm = nn.LSTM(input_size=embedding_dim, hidden_size=hidden_dim, \n",
    "                            num_layers=num_layers)\n",
    "    \n",
    "    def forward(self, question_vec):\n",
    "        h0 = torch.randn(1, 1, self.hidden_dim)\n",
    "        c0 = torch.randn(1, 1, self.hidden_dim)\n",
    "        \n",
    "        question_embed = self.embed(question_vec)\n",
    "                \n",
    "        _, states = self.lstm(question_embed, (h0, c0))\n",
    "                \n",
    "        hidden_state,_ = states\n",
    "        embedding = hidden_state[0]\n",
    "        \n",
    "        return embedding"
   ]
  },
  {
   "cell_type": "code",
   "execution_count": 1,
   "metadata": {},
   "outputs": [],
   "source": [
    "# vocab = 13744*[0]\n",
    "# embedded_dim = 1000\n",
    "# dropout_ratio = 0.5\n",
    "# question_vec = torch.ones(len(vocab))\n",
    "# print(question_vec.shape)\n",
    "# lstm = LSTM(vocab, embedded_dim, dropout_ratio)\n",
    "# y = lstm(question_vec)"
   ]
  },
  {
   "cell_type": "code",
   "execution_count": 183,
   "metadata": {},
   "outputs": [],
   "source": [
    "class AttentionNet(NNClassifier):\n",
    "    def __init__(self):\n",
    "        #v_i in dxm => 1024x196 vec\n",
    "        #v_q in d => 1024x1 vec\n",
    "        #Wia v_i in kxm => kx196\n",
    "        #will choose k => 512\n",
    "        super(AttentionNet,self).__init__()\n",
    "        input_features = 1024 \n",
    "        output_features = 512 #k \n",
    "        image_region_size = 196\n",
    "        num_classes = 1000\n",
    "        \n",
    "        self.q_transform1 = nn.Linear(input_features,output_features)\n",
    "        self.image_transform1 = nn.Linear(input_features,output_features, bias=False)\n",
    "        self.fc31 = nn.Linear(output_features,1)\n",
    "        \n",
    "        self.q_transform2 = nn.Linear(input_features,output_features)\n",
    "        self.image_transform2 = nn.Linear(input_features,output_features, bias=False)\n",
    "        self.fc32 = nn.Linear(output_features,1)\n",
    "        \n",
    "        self.answerDist = nn.Linear(input_features,num_classes)\n",
    "        \n",
    "        self.tanh = nn.Tanh()\n",
    "        self.softmax = nn.Softmax()\n",
    "        self.dropout = nn.Dropout(0.5)\n",
    "        \n",
    "    def forward(self, question_vec, image_vec):\n",
    "        #do linear on fc1\n",
    "        u_0 = question_vec\n",
    "        q_transformation = self.q_transform1(u_0)\n",
    "        #do linear on fc2 \n",
    "        image_transformation = self.image_transform1(image_vec)\n",
    "        #perform addition of a matrix and a vector \n",
    "        hA = self.tanh(image_transformation + q_transformation)\n",
    "        #perform softmax on fc3 with result of tanh \n",
    "        x = self.fc31(hA)\n",
    "        pI = self.softmax(x) #196x1\n",
    "        v_0 = image_vec.view(1024, 196).matmul(pI).view(1, 1024)\n",
    "        u_1 = v_0 + u_0 \n",
    "        \n",
    "        q_transformation2 = self.q_transform2(u_0)\n",
    "        #do linear on fc2 \n",
    "        image_transformation2 = self.image_transform2(image_vec)\n",
    "        #perform addition of a matrix and a vector \n",
    "        hA = self.tanh(image_transformation2 + q_transformation2)\n",
    "        #perform softmax on fc3 with result of tanh \n",
    "        x = self.fc32(hA)\n",
    "        pI = self.softmax(x) #196x1\n",
    "        v_1 = image_vec.view(1024, 196).matmul(pI).view(1, 1024)\n",
    "        u_2 = v_1 + u_1 \n",
    "        \n",
    "        #perform softmax to get a final answer distribution\n",
    "        pI = self.softmax(self.answerDist(u_2))\n",
    "\n",
    "        return pI                "
   ]
  },
  {
   "cell_type": "code",
   "execution_count": null,
   "metadata": {},
   "outputs": [],
   "source": []
  },
  {
   "cell_type": "code",
   "execution_count": 14,
   "metadata": {},
   "outputs": [],
   "source": [
    "class SAN(NNClassifier):\n",
    "    def __init__(self, num_classes, fine_tuning=False):\n",
    "        super(SAN, self).__init__()\n",
    "        \n",
    "        "
   ]
  },
  {
   "cell_type": "code",
   "execution_count": null,
   "metadata": {},
   "outputs": [],
   "source": []
  },
  {
   "cell_type": "code",
   "execution_count": null,
   "metadata": {},
   "outputs": [],
   "source": []
  }
 ],
 "metadata": {
  "kernelspec": {
   "display_name": "Python 3",
   "language": "python",
   "name": "python3"
  },
  "language_info": {
   "codemirror_mode": {
    "name": "ipython",
    "version": 3
   },
   "file_extension": ".py",
   "mimetype": "text/x-python",
   "name": "python",
   "nbconvert_exporter": "python",
   "pygments_lexer": "ipython3",
   "version": "3.6.8"
  }
 },
 "nbformat": 4,
 "nbformat_minor": 2
}
