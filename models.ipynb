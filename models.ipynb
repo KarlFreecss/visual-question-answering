{
 "cells": [
  {
   "cell_type": "code",
   "execution_count": 2,
   "metadata": {},
   "outputs": [],
   "source": [
    "import torch.nn as nn\n",
    "import torch.nn.functional as F\n",
    "from torch.autograd import variable\n",
    "import nntools as nt"
   ]
  },
  {
   "cell_type": "code",
   "execution_count": 3,
   "metadata": {},
   "outputs": [],
   "source": [
    "class NNClassifier(nt.NeuralNetwork):\n",
    "    def __init__(self):\n",
    "        super(NNClassifier, self).__init__()\n",
    "        self.cross_entropy = nn.CrossEntropyLoss()\n",
    "    \n",
    "    def criterion(self, y, d):\n",
    "        return self.cross_entropy(y, d)"
   ]
  },
  {
   "cell_type": "code",
   "execution_count": 19,
   "metadata": {},
   "outputs": [],
   "source": [
    "class VGGNet(NNClassifier):\n",
    "    def __init__(self, num_classes, fine_tuning=False):\n",
    "        super(VGGNet, self).__init__()\n",
    "        vgg = tv.models.vgg16_bn(pretrained=True)\n",
    "        \n",
    "        for param in vgg.parameters():\n",
    "            param.requires_grad = fine_tuning \n",
    "            \n",
    "        self.features = vgg.features\n",
    "        \n",
    "        self.num_fts = 512\n",
    "        self.num_classes = num_classes\n",
    "        \n",
    "        # Linear layer goes from 512 to 1024\n",
    "        self.classifier = nn.Linear(self.num_ftr, self.num_classes)\n",
    "        self.tanh = nn.Tanh()\n",
    "        self.dropout = nn.Dropout(0.5)\n",
    "        \n",
    "        \n",
    "    def forward(self, x):\n",
    "        h = self.features(x)\n",
    "        h = self.classifier(h.view(-1, self.num_fts)).view(-1, 196, self.num_classes)\n",
    "        y = self.dropout(self.tanh(h))\n",
    "        \n",
    "        return y"
   ]
  },
  {
   "cell_type": "code",
   "execution_count": null,
   "metadata": {},
   "outputs": [],
   "source": [
    "class LSTM(NNClassifier): \n",
    "    def __init__(self, vocab, embedding_dim, hidden_dim=1024, num_layers, dropout_ratio):\n",
    "        super(LSTM,self).__init__()\n",
    "        self.vocab = vocab\n",
    "        self.vocab_size = len(vocab)\n",
    "        \n",
    "        self.embed = nn.Embedding(self.vocab_size, embedding_dim=embedded_dim)        \n",
    "        self.lstm = nn.LSTM(input_size=embedded_dim, hidden_size=hidden_dim, \n",
    "                            num_layers=num_layers, dropout=dropout_ratio)\n",
    "    \n",
    "    def forward(question_vec):\n",
    "        question_embed = self.embed(question_vec)\n",
    "        \n",
    "        _, states = self.lstm(question_embed)\n",
    "        hidden_state,_ = states\n",
    "        \n",
    "        embedding = hidden_state[0]\n",
    "        \n",
    "        return embedding"
   ]
  },
  {
   "cell_type": "code",
   "execution_count": null,
   "metadata": {},
   "outputs": [],
   "source": [
    "class AttentionNet(NNClassifier):\n",
    "    def __init__(self):\n",
    "        super(AttentionNet).__init__()\n",
    "        \n",
    "        "
   ]
  },
  {
   "cell_type": "code",
   "execution_count": 4,
   "metadata": {},
   "outputs": [],
   "source": [
    "class SAN(NNClassifier):\n",
    "    def __init__(self, num_classes, fine_tuning=False):\n",
    "        super(SAN, self).__init__()\n",
    "        \n",
    "        "
   ]
  },
  {
   "cell_type": "code",
   "execution_count": null,
   "metadata": {},
   "outputs": [],
   "source": []
  }
 ],
 "metadata": {
  "kernelspec": {
   "display_name": "Python 3",
   "language": "python",
   "name": "python3"
  },
  "language_info": {
   "codemirror_mode": {
    "name": "ipython",
    "version": 3
   },
   "file_extension": ".py",
   "mimetype": "text/x-python",
   "name": "python",
   "nbconvert_exporter": "python",
   "pygments_lexer": "ipython3",
   "version": "3.6.8"
  }
 },
 "nbformat": 4,
 "nbformat_minor": 2
}
